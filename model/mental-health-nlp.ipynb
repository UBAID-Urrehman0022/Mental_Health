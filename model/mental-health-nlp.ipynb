{
 "cells": [
  {
   "cell_type": "code",
   "execution_count": null,
   "id": "3a640709",
   "metadata": {
    "id": "lGA_WW7BQPqL",
    "outputId": "eda00066-3ed3-4e9b-a755-ef06fe7efe54",
    "papermill": {
     "duration": 0.028572,
     "end_time": "2021-10-13T14:25:55.934221",
     "exception": false,
     "start_time": "2021-10-13T14:25:55.905649",
     "status": "completed"
    },
    "tags": []
   },
   "outputs": [],
   "source": []
  },
  {
   "cell_type": "code",
   "execution_count": 1,
   "id": "772edbdb",
   "metadata": {
    "execution": {
     "iopub.execute_input": "2021-10-13T14:25:55.995873Z",
     "iopub.status.busy": "2021-10-13T14:25:55.994691Z",
     "iopub.status.idle": "2021-10-13T14:25:57.905027Z",
     "shell.execute_reply": "2021-10-13T14:25:57.905530Z",
     "shell.execute_reply.started": "2021-10-13T14:25:08.259915Z"
    },
    "id": "iFDfpk7HQwGz",
    "outputId": "eb1eb550-ea26-4e7b-bd7e-2a96723ac1e9",
    "papermill": {
     "duration": 1.944358,
     "end_time": "2021-10-13T14:25:57.905804",
     "exception": false,
     "start_time": "2021-10-13T14:25:55.961446",
     "status": "completed"
    },
    "tags": []
   },
   "outputs": [
    {
     "name": "stdout",
     "output_type": "stream",
     "text": [
      "[nltk_data] Downloading package wordnet to /usr/share/nltk_data...\n",
      "[nltk_data]   Package wordnet is already up-to-date!\n",
      "[nltk_data] Downloading package stopwords to /usr/share/nltk_data...\n",
      "[nltk_data]   Package stopwords is already up-to-date!\n"
     ]
    },
    {
     "data": {
      "text/plain": [
       "True"
      ]
     },
     "execution_count": 1,
     "metadata": {},
     "output_type": "execute_result"
    }
   ],
   "source": [
    "import pandas as pd\n",
    "import numpy as np\n",
    "import string\n",
    "import re\n",
    "import nltk\n",
    "nltk.download('wordnet')\n",
    "nltk.download('stopwords')"
   ]
  },
  {
   "cell_type": "code",
   "execution_count": 2,
   "id": "f7eac5a7",
   "metadata": {
    "execution": {
     "iopub.execute_input": "2021-10-13T14:25:57.964332Z",
     "iopub.status.busy": "2021-10-13T14:25:57.963680Z",
     "iopub.status.idle": "2021-10-13T14:25:58.018716Z",
     "shell.execute_reply": "2021-10-13T14:25:58.019308Z",
     "shell.execute_reply.started": "2021-10-13T14:25:09.609138Z"
    },
    "id": "HtYw5753qb50",
    "outputId": "295694bf-a06e-4550-a102-12243dd62dc0",
    "papermill": {
     "duration": 0.085331,
     "end_time": "2021-10-13T14:25:58.019490",
     "exception": false,
     "start_time": "2021-10-13T14:25:57.934159",
     "status": "completed"
    },
    "tags": []
   },
   "outputs": [
    {
     "name": "stdout",
     "output_type": "stream",
     "text": [
      "[nltk_data] Downloading package punkt to /usr/share/nltk_data...\n",
      "[nltk_data]   Package punkt is already up-to-date!\n"
     ]
    },
    {
     "data": {
      "text/plain": [
       "True"
      ]
     },
     "execution_count": 2,
     "metadata": {},
     "output_type": "execute_result"
    }
   ],
   "source": [
    "\n",
    "nltk.download('punkt')"
   ]
  },
  {
   "cell_type": "code",
   "execution_count": 3,
   "id": "1d265f55",
   "metadata": {
    "execution": {
     "iopub.execute_input": "2021-10-13T14:25:58.080749Z",
     "iopub.status.busy": "2021-10-13T14:25:58.080057Z",
     "iopub.status.idle": "2021-10-13T14:25:58.126507Z",
     "shell.execute_reply": "2021-10-13T14:25:58.125954Z",
     "shell.execute_reply.started": "2021-10-13T14:25:09.659370Z"
    },
    "id": "b-zXdAKSQ-c0",
    "outputId": "03d37f28-1c9b-4f31-82dd-9f45d70da299",
    "papermill": {
     "duration": 0.077519,
     "end_time": "2021-10-13T14:25:58.126656",
     "exception": false,
     "start_time": "2021-10-13T14:25:58.049137",
     "status": "completed"
    },
    "tags": []
   },
   "outputs": [
    {
     "name": "stdout",
     "output_type": "stream",
     "text": [
      "<class 'pandas.core.frame.DataFrame'>\n",
      "RangeIndex: 98 entries, 0 to 97\n",
      "Data columns (total 3 columns):\n",
      " #   Column       Non-Null Count  Dtype \n",
      "---  ------       --------------  ----- \n",
      " 0   Question_ID  98 non-null     int64 \n",
      " 1   Questions    98 non-null     object\n",
      " 2   Answers      98 non-null     object\n",
      "dtypes: int64(1), object(2)\n",
      "memory usage: 2.4+ KB\n"
     ]
    }
   ],
   "source": [
    "df=pd.read_csv(\"../input/mental-health-faq-for-chatbot/Mental_Health_FAQ.csv\")\n",
    "df.info()"
   ]
  },
  {
   "cell_type": "code",
   "execution_count": 4,
   "id": "7cd3cacb",
   "metadata": {
    "execution": {
     "iopub.execute_input": "2021-10-13T14:25:58.188100Z",
     "iopub.status.busy": "2021-10-13T14:25:58.187175Z",
     "iopub.status.idle": "2021-10-13T14:25:58.199050Z",
     "shell.execute_reply": "2021-10-13T14:25:58.199531Z",
     "shell.execute_reply.started": "2021-10-13T14:25:09.706661Z"
    },
    "id": "zU6Br9hnRDLY",
    "outputId": "cac25193-212f-4ee6-be4a-cd71745f26a3",
    "papermill": {
     "duration": 0.045051,
     "end_time": "2021-10-13T14:25:58.199693",
     "exception": false,
     "start_time": "2021-10-13T14:25:58.154642",
     "status": "completed"
    },
    "tags": []
   },
   "outputs": [
    {
     "data": {
      "text/html": [
       "<div>\n",
       "<style scoped>\n",
       "    .dataframe tbody tr th:only-of-type {\n",
       "        vertical-align: middle;\n",
       "    }\n",
       "\n",
       "    .dataframe tbody tr th {\n",
       "        vertical-align: top;\n",
       "    }\n",
       "\n",
       "    .dataframe thead th {\n",
       "        text-align: right;\n",
       "    }\n",
       "</style>\n",
       "<table border=\"1\" class=\"dataframe\">\n",
       "  <thead>\n",
       "    <tr style=\"text-align: right;\">\n",
       "      <th></th>\n",
       "      <th>Question_ID</th>\n",
       "      <th>Questions</th>\n",
       "      <th>Answers</th>\n",
       "    </tr>\n",
       "  </thead>\n",
       "  <tbody>\n",
       "    <tr>\n",
       "      <th>0</th>\n",
       "      <td>1590140</td>\n",
       "      <td>What does it mean to have a mental illness?</td>\n",
       "      <td>Mental illnesses are health conditions that di...</td>\n",
       "    </tr>\n",
       "    <tr>\n",
       "      <th>1</th>\n",
       "      <td>2110618</td>\n",
       "      <td>Who does mental illness affect?</td>\n",
       "      <td>It is estimated that mental illness affects 1 ...</td>\n",
       "    </tr>\n",
       "    <tr>\n",
       "      <th>2</th>\n",
       "      <td>6361820</td>\n",
       "      <td>What causes mental illness?</td>\n",
       "      <td>It is estimated that mental illness affects 1 ...</td>\n",
       "    </tr>\n",
       "    <tr>\n",
       "      <th>3</th>\n",
       "      <td>9434130</td>\n",
       "      <td>What are some of the warning signs of mental i...</td>\n",
       "      <td>Symptoms of mental health disorders vary depen...</td>\n",
       "    </tr>\n",
       "    <tr>\n",
       "      <th>4</th>\n",
       "      <td>7657263</td>\n",
       "      <td>Can people with mental illness recover?</td>\n",
       "      <td>When healing from mental illness, early identi...</td>\n",
       "    </tr>\n",
       "  </tbody>\n",
       "</table>\n",
       "</div>"
      ],
      "text/plain": [
       "   Question_ID                                          Questions  \\\n",
       "0      1590140        What does it mean to have a mental illness?   \n",
       "1      2110618                    Who does mental illness affect?   \n",
       "2      6361820                        What causes mental illness?   \n",
       "3      9434130  What are some of the warning signs of mental i...   \n",
       "4      7657263            Can people with mental illness recover?   \n",
       "\n",
       "                                             Answers  \n",
       "0  Mental illnesses are health conditions that di...  \n",
       "1  It is estimated that mental illness affects 1 ...  \n",
       "2  It is estimated that mental illness affects 1 ...  \n",
       "3  Symptoms of mental health disorders vary depen...  \n",
       "4  When healing from mental illness, early identi...  "
      ]
     },
     "execution_count": 4,
     "metadata": {},
     "output_type": "execute_result"
    }
   ],
   "source": [
    "df.head()"
   ]
  },
  {
   "cell_type": "code",
   "execution_count": null,
   "id": "9bf2aeda",
   "metadata": {
    "id": "vzTqr0PINZCw",
    "papermill": {
     "duration": 0.028247,
     "end_time": "2021-10-13T14:25:58.256647",
     "exception": false,
     "start_time": "2021-10-13T14:25:58.228400",
     "status": "completed"
    },
    "tags": []
   },
   "outputs": [],
   "source": []
  },
  {
   "cell_type": "code",
   "execution_count": 5,
   "id": "5129fd52",
   "metadata": {
    "execution": {
     "iopub.execute_input": "2021-10-13T14:25:58.316871Z",
     "iopub.status.busy": "2021-10-13T14:25:58.316254Z",
     "iopub.status.idle": "2021-10-13T14:25:58.320830Z",
     "shell.execute_reply": "2021-10-13T14:25:58.321321Z",
     "shell.execute_reply.started": "2021-10-13T14:25:09.821565Z"
    },
    "id": "irNwfglNRCZb",
    "papermill": {
     "duration": 0.036187,
     "end_time": "2021-10-13T14:25:58.321526",
     "exception": false,
     "start_time": "2021-10-13T14:25:58.285339",
     "status": "completed"
    },
    "tags": []
   },
   "outputs": [],
   "source": [
    "df=df.drop([\"Question_ID\"],axis=\"columns\")"
   ]
  },
  {
   "cell_type": "code",
   "execution_count": 6,
   "id": "c8b80bf8",
   "metadata": {
    "execution": {
     "iopub.execute_input": "2021-10-13T14:25:58.384652Z",
     "iopub.status.busy": "2021-10-13T14:25:58.384013Z",
     "iopub.status.idle": "2021-10-13T14:25:58.386258Z",
     "shell.execute_reply": "2021-10-13T14:25:58.386738Z",
     "shell.execute_reply.started": "2021-10-13T14:25:09.827226Z"
    },
    "id": "HYNzuj_bVqOk",
    "papermill": {
     "duration": 0.036955,
     "end_time": "2021-10-13T14:25:58.386896",
     "exception": false,
     "start_time": "2021-10-13T14:25:58.349941",
     "status": "completed"
    },
    "tags": []
   },
   "outputs": [],
   "source": [
    "from nltk.tokenize import word_tokenize\n",
    "df[\"Questions\"]=df[\"Questions\"].str.lower()"
   ]
  },
  {
   "cell_type": "code",
   "execution_count": 7,
   "id": "09b7d40a",
   "metadata": {
    "execution": {
     "iopub.execute_input": "2021-10-13T14:25:58.446979Z",
     "iopub.status.busy": "2021-10-13T14:25:58.446326Z",
     "iopub.status.idle": "2021-10-13T14:25:58.450568Z",
     "shell.execute_reply": "2021-10-13T14:25:58.450066Z",
     "shell.execute_reply.started": "2021-10-13T14:25:09.839238Z"
    },
    "id": "goQRvdJDoGtM",
    "papermill": {
     "duration": 0.035392,
     "end_time": "2021-10-13T14:25:58.450698",
     "exception": false,
     "start_time": "2021-10-13T14:25:58.415306",
     "status": "completed"
    },
    "tags": []
   },
   "outputs": [],
   "source": [
    "text=df[\"Questions\"][0]"
   ]
  },
  {
   "cell_type": "code",
   "execution_count": 8,
   "id": "0bca4e53",
   "metadata": {
    "execution": {
     "iopub.execute_input": "2021-10-13T14:25:58.514797Z",
     "iopub.status.busy": "2021-10-13T14:25:58.514156Z",
     "iopub.status.idle": "2021-10-13T14:25:58.533643Z",
     "shell.execute_reply": "2021-10-13T14:25:58.532900Z",
     "shell.execute_reply.started": "2021-10-13T14:25:09.845947Z"
    },
    "id": "QJ5bwFN2pwnF",
    "papermill": {
     "duration": 0.054486,
     "end_time": "2021-10-13T14:25:58.533799",
     "exception": false,
     "start_time": "2021-10-13T14:25:58.479313",
     "status": "completed"
    },
    "tags": []
   },
   "outputs": [],
   "source": [
    "from nltk.tokenize import RegexpTokenizer\n",
    "text = re.sub(r'[^\\w\\s]', '', text)\n",
    "words = word_tokenize(text) "
   ]
  },
  {
   "cell_type": "code",
   "execution_count": 9,
   "id": "88ea8320",
   "metadata": {
    "execution": {
     "iopub.execute_input": "2021-10-13T14:25:58.613428Z",
     "iopub.status.busy": "2021-10-13T14:25:58.612610Z",
     "iopub.status.idle": "2021-10-13T14:25:58.616373Z",
     "shell.execute_reply": "2021-10-13T14:25:58.615836Z",
     "shell.execute_reply.started": "2021-10-13T14:25:09.864546Z"
    },
    "id": "IxJ9FFbGqjEr",
    "outputId": "835f2788-9c67-4edd-df42-ba79735e652e",
    "papermill": {
     "duration": 0.044068,
     "end_time": "2021-10-13T14:25:58.616513",
     "exception": false,
     "start_time": "2021-10-13T14:25:58.572445",
     "status": "completed"
    },
    "tags": []
   },
   "outputs": [
    {
     "name": "stdout",
     "output_type": "stream",
     "text": [
      "['what', 'does', 'it', 'mean', 'to', 'have', 'a', 'mental', 'illness']\n"
     ]
    }
   ],
   "source": [
    "print(words)"
   ]
  },
  {
   "cell_type": "code",
   "execution_count": 10,
   "id": "3d4f8c4b",
   "metadata": {
    "execution": {
     "iopub.execute_input": "2021-10-13T14:25:58.681766Z",
     "iopub.status.busy": "2021-10-13T14:25:58.680913Z",
     "iopub.status.idle": "2021-10-13T14:26:00.913020Z",
     "shell.execute_reply": "2021-10-13T14:26:00.913565Z",
     "shell.execute_reply.started": "2021-10-13T14:25:09.869688Z"
    },
    "id": "4idzhwTew3XV",
    "papermill": {
     "duration": 2.267351,
     "end_time": "2021-10-13T14:26:00.913737",
     "exception": false,
     "start_time": "2021-10-13T14:25:58.646386",
     "status": "completed"
    },
    "tags": []
   },
   "outputs": [],
   "source": [
    "from nltk.stem import WordNetLemmatizer\n",
    "wnl = WordNetLemmatizer()\n",
    "text=\" \".join([wnl.lemmatize(t) for t in text.split() ])"
   ]
  },
  {
   "cell_type": "code",
   "execution_count": 11,
   "id": "23447152",
   "metadata": {
    "execution": {
     "iopub.execute_input": "2021-10-13T14:26:00.976370Z",
     "iopub.status.busy": "2021-10-13T14:26:00.975660Z",
     "iopub.status.idle": "2021-10-13T14:26:00.980055Z",
     "shell.execute_reply": "2021-10-13T14:26:00.980563Z",
     "shell.execute_reply.started": "2021-10-13T14:25:11.817864Z"
    },
    "id": "Cnye8yjO0P7V",
    "papermill": {
     "duration": 0.036911,
     "end_time": "2021-10-13T14:26:00.980734",
     "exception": false,
     "start_time": "2021-10-13T14:26:00.943823",
     "status": "completed"
    },
    "tags": []
   },
   "outputs": [
    {
     "data": {
      "text/plain": [
       "'what doe it mean to have a mental illness'"
      ]
     },
     "execution_count": 11,
     "metadata": {},
     "output_type": "execute_result"
    }
   ],
   "source": [
    "text"
   ]
  },
  {
   "cell_type": "code",
   "execution_count": 12,
   "id": "64e8660b",
   "metadata": {
    "execution": {
     "iopub.execute_input": "2021-10-13T14:26:01.042186Z",
     "iopub.status.busy": "2021-10-13T14:26:01.041573Z",
     "iopub.status.idle": "2021-10-13T14:26:01.047423Z",
     "shell.execute_reply": "2021-10-13T14:26:01.046870Z",
     "shell.execute_reply.started": "2021-10-13T14:25:11.824840Z"
    },
    "id": "aAw72wIR0puE",
    "papermill": {
     "duration": 0.037473,
     "end_time": "2021-10-13T14:26:01.047562",
     "exception": false,
     "start_time": "2021-10-13T14:26:01.010089",
     "status": "completed"
    },
    "tags": []
   },
   "outputs": [],
   "source": [
    "from nltk.corpus import stopwords  \n",
    "stopwords=stopwords.words('english')"
   ]
  },
  {
   "cell_type": "code",
   "execution_count": 13,
   "id": "67067007",
   "metadata": {
    "execution": {
     "iopub.execute_input": "2021-10-13T14:26:01.112316Z",
     "iopub.status.busy": "2021-10-13T14:26:01.111296Z",
     "iopub.status.idle": "2021-10-13T14:26:01.113676Z",
     "shell.execute_reply": "2021-10-13T14:26:01.114145Z",
     "shell.execute_reply.started": "2021-10-13T14:25:11.833656Z"
    },
    "id": "-_KeS6Hey3nf",
    "papermill": {
     "duration": 0.037329,
     "end_time": "2021-10-13T14:26:01.114311",
     "exception": false,
     "start_time": "2021-10-13T14:26:01.076982",
     "status": "completed"
    },
    "tags": []
   },
   "outputs": [],
   "source": [
    "def data_prep(text):\n",
    "  text=text.lower()\n",
    "  text = re.sub(r'[^\\w\\s]', '', text)\n",
    "  text=\" \".join(t for t in text.split() if t not in stopwords)\n",
    "  return text"
   ]
  },
  {
   "cell_type": "code",
   "execution_count": 14,
   "id": "51ccff9f",
   "metadata": {
    "execution": {
     "iopub.execute_input": "2021-10-13T14:26:01.178440Z",
     "iopub.status.busy": "2021-10-13T14:26:01.177747Z",
     "iopub.status.idle": "2021-10-13T14:26:01.180412Z",
     "shell.execute_reply": "2021-10-13T14:26:01.180875Z",
     "shell.execute_reply.started": "2021-10-13T14:25:11.843166Z"
    },
    "id": "xxfphc2D5NWm",
    "outputId": "3690149f-6d05-41ff-8ab5-6d83e3ec2951",
    "papermill": {
     "duration": 0.037221,
     "end_time": "2021-10-13T14:26:01.181061",
     "exception": false,
     "start_time": "2021-10-13T14:26:01.143840",
     "status": "completed"
    },
    "tags": []
   },
   "outputs": [
    {
     "name": "stdout",
     "output_type": "stream",
     "text": [
      "doe mean mental illness\n"
     ]
    }
   ],
   "source": [
    "print(data_prep(text))"
   ]
  },
  {
   "cell_type": "code",
   "execution_count": 15,
   "id": "671b91d0",
   "metadata": {
    "execution": {
     "iopub.execute_input": "2021-10-13T14:26:01.244246Z",
     "iopub.status.busy": "2021-10-13T14:26:01.243282Z",
     "iopub.status.idle": "2021-10-13T14:26:01.250469Z",
     "shell.execute_reply": "2021-10-13T14:26:01.250906Z",
     "shell.execute_reply.started": "2021-10-13T14:25:11.848925Z"
    },
    "id": "zJrKhXVi5xrg",
    "papermill": {
     "duration": 0.040667,
     "end_time": "2021-10-13T14:26:01.251121",
     "exception": false,
     "start_time": "2021-10-13T14:26:01.210454",
     "status": "completed"
    },
    "tags": []
   },
   "outputs": [],
   "source": [
    "df[\"Questions\"]=df[\"Questions\"].apply(data_prep)"
   ]
  },
  {
   "cell_type": "code",
   "execution_count": 16,
   "id": "40c86ae8",
   "metadata": {
    "execution": {
     "iopub.execute_input": "2021-10-13T14:26:01.313888Z",
     "iopub.status.busy": "2021-10-13T14:26:01.312919Z",
     "iopub.status.idle": "2021-10-13T14:26:01.320098Z",
     "shell.execute_reply": "2021-10-13T14:26:01.320544Z",
     "shell.execute_reply.started": "2021-10-13T14:25:11.860295Z"
    },
    "id": "uyED2ZhT59uk",
    "outputId": "4f21ae83-e40c-42ea-ac01-a41f3024bfa1",
    "papermill": {
     "duration": 0.040273,
     "end_time": "2021-10-13T14:26:01.320711",
     "exception": false,
     "start_time": "2021-10-13T14:26:01.280438",
     "status": "completed"
    },
    "tags": []
   },
   "outputs": [
    {
     "data": {
      "text/plain": [
       "0               mean mental illness\n",
       "1             mental illness affect\n",
       "2             causes mental illness\n",
       "3      warning signs mental illness\n",
       "4     people mental illness recover\n",
       "                  ...              \n",
       "93            know im drinking much\n",
       "94    cannabis dangerous legalizing\n",
       "95          convince kids use drugs\n",
       "96    legal status evidence cbd oil\n",
       "97                  evidence vaping\n",
       "Name: Questions, Length: 98, dtype: object"
      ]
     },
     "execution_count": 16,
     "metadata": {},
     "output_type": "execute_result"
    }
   ],
   "source": [
    "df[\"Questions\"]"
   ]
  },
  {
   "cell_type": "code",
   "execution_count": 17,
   "id": "c3df0c9d",
   "metadata": {
    "execution": {
     "iopub.execute_input": "2021-10-13T14:26:01.384571Z",
     "iopub.status.busy": "2021-10-13T14:26:01.383550Z",
     "iopub.status.idle": "2021-10-13T14:26:01.389275Z",
     "shell.execute_reply": "2021-10-13T14:26:01.388593Z",
     "shell.execute_reply.started": "2021-10-13T14:25:11.869365Z"
    },
    "id": "9qdikbGoJGaW",
    "outputId": "3a99e733-c896-4fa3-858d-e03269595734",
    "papermill": {
     "duration": 0.038961,
     "end_time": "2021-10-13T14:26:01.389420",
     "exception": false,
     "start_time": "2021-10-13T14:26:01.350459",
     "status": "completed"
    },
    "tags": []
   },
   "outputs": [
    {
     "name": "stdout",
     "output_type": "stream",
     "text": [
      "mean mental illness\n"
     ]
    }
   ],
   "source": [
    "print(df[\"Questions\"][0])"
   ]
  },
  {
   "cell_type": "code",
   "execution_count": 18,
   "id": "9bb72592",
   "metadata": {
    "execution": {
     "iopub.execute_input": "2021-10-13T14:26:01.455147Z",
     "iopub.status.busy": "2021-10-13T14:26:01.454494Z",
     "iopub.status.idle": "2021-10-13T14:26:01.456277Z",
     "shell.execute_reply": "2021-10-13T14:26:01.456849Z",
     "shell.execute_reply.started": "2021-10-13T14:25:11.875382Z"
    },
    "id": "8MmdOyHbJ14V",
    "papermill": {
     "duration": 0.037193,
     "end_time": "2021-10-13T14:26:01.457032",
     "exception": false,
     "start_time": "2021-10-13T14:26:01.419839",
     "status": "completed"
    },
    "tags": []
   },
   "outputs": [],
   "source": [
    "from sklearn.feature_extraction.text import CountVectorizer\n",
    "from sklearn.feature_extraction.text import TfidfVectorizer"
   ]
  },
  {
   "cell_type": "code",
   "execution_count": 19,
   "id": "c19e7035",
   "metadata": {
    "execution": {
     "iopub.execute_input": "2021-10-13T14:26:01.520673Z",
     "iopub.status.busy": "2021-10-13T14:26:01.520027Z",
     "iopub.status.idle": "2021-10-13T14:26:01.533671Z",
     "shell.execute_reply": "2021-10-13T14:26:01.534201Z",
     "shell.execute_reply.started": "2021-10-13T14:25:11.882060Z"
    },
    "id": "3XFyQIVXJKrl",
    "papermill": {
     "duration": 0.046962,
     "end_time": "2021-10-13T14:26:01.534379",
     "exception": false,
     "start_time": "2021-10-13T14:26:01.487417",
     "status": "completed"
    },
    "tags": []
   },
   "outputs": [],
   "source": [
    "#Tfidf vectorizer\n",
    "tf=TfidfVectorizer()\n",
    "#transformed train reviews\n",
    "tf_train=tf.fit_transform(df[\"Questions\"])\n",
    "# #transformed test reviews\n",
    "# tf_test=tf.transform(test_reviews_data)\n",
    "# print('Tfidf_train:',tf_train.shape)\n",
    "# print('Tfidf_test:',tf_test.shape)\n"
   ]
  },
  {
   "cell_type": "code",
   "execution_count": 20,
   "id": "1d4986f7",
   "metadata": {
    "execution": {
     "iopub.execute_input": "2021-10-13T14:26:01.600193Z",
     "iopub.status.busy": "2021-10-13T14:26:01.599156Z",
     "iopub.status.idle": "2021-10-13T14:26:01.603157Z",
     "shell.execute_reply": "2021-10-13T14:26:01.602515Z",
     "shell.execute_reply.started": "2021-10-13T14:25:11.900618Z"
    },
    "id": "3OA-p28EMCxA",
    "papermill": {
     "duration": 0.038472,
     "end_time": "2021-10-13T14:26:01.603305",
     "exception": false,
     "start_time": "2021-10-13T14:26:01.564833",
     "status": "completed"
    },
    "tags": []
   },
   "outputs": [],
   "source": [
    "df_check=pd.DataFrame(tf_train.toarray(),columns=tf.get_feature_names())"
   ]
  },
  {
   "cell_type": "code",
   "execution_count": null,
   "id": "decd1386",
   "metadata": {
    "id": "1D8-5pl0Mu6-",
    "outputId": "57b59369-1ecf-47c9-b0d2-3b688eb0a242",
    "papermill": {
     "duration": 0.030242,
     "end_time": "2021-10-13T14:26:01.664123",
     "exception": false,
     "start_time": "2021-10-13T14:26:01.633881",
     "status": "completed"
    },
    "tags": []
   },
   "outputs": [],
   "source": []
  },
  {
   "cell_type": "code",
   "execution_count": 21,
   "id": "a5b64f92",
   "metadata": {
    "execution": {
     "iopub.execute_input": "2021-10-13T14:26:01.732732Z",
     "iopub.status.busy": "2021-10-13T14:26:01.732079Z",
     "iopub.status.idle": "2021-10-13T14:26:01.733877Z",
     "shell.execute_reply": "2021-10-13T14:26:01.734453Z",
     "shell.execute_reply.started": "2021-10-13T14:25:11.907362Z"
    },
    "id": "0NpoLgSpNcRO",
    "papermill": {
     "duration": 0.039095,
     "end_time": "2021-10-13T14:26:01.734648",
     "exception": false,
     "start_time": "2021-10-13T14:26:01.695553",
     "status": "completed"
    },
    "tags": []
   },
   "outputs": [],
   "source": [
    "from sklearn.preprocessing import LabelEncoder\n",
    "le= LabelEncoder()\n",
    "df[\"Answers_Code\"]=le.fit_transform(df[\"Answers\"])"
   ]
  },
  {
   "cell_type": "code",
   "execution_count": 22,
   "id": "cef81745",
   "metadata": {
    "execution": {
     "iopub.execute_input": "2021-10-13T14:26:01.804640Z",
     "iopub.status.busy": "2021-10-13T14:26:01.803833Z",
     "iopub.status.idle": "2021-10-13T14:26:01.807049Z",
     "shell.execute_reply": "2021-10-13T14:26:01.807482Z",
     "shell.execute_reply.started": "2021-10-13T14:25:11.916787Z"
    },
    "id": "yNf1JL85PLU2",
    "outputId": "e12566ed-6085-4dbd-908d-989328f088b0",
    "papermill": {
     "duration": 0.04214,
     "end_time": "2021-10-13T14:26:01.807643",
     "exception": false,
     "start_time": "2021-10-13T14:26:01.765503",
     "status": "completed"
    },
    "tags": []
   },
   "outputs": [
    {
     "data": {
      "text/plain": [
       "0     48\n",
       "1     35\n",
       "2     36\n",
       "3     72\n",
       "4     91\n",
       "      ..\n",
       "93    69\n",
       "94    18\n",
       "95    96\n",
       "96    17\n",
       "97     0\n",
       "Name: Answers_Code, Length: 98, dtype: int64"
      ]
     },
     "execution_count": 22,
     "metadata": {},
     "output_type": "execute_result"
    }
   ],
   "source": [
    "df[\"Answers_Code\"]"
   ]
  },
  {
   "cell_type": "code",
   "execution_count": 23,
   "id": "41562851",
   "metadata": {
    "execution": {
     "iopub.execute_input": "2021-10-13T14:26:01.880223Z",
     "iopub.status.busy": "2021-10-13T14:26:01.879587Z",
     "iopub.status.idle": "2021-10-13T14:26:01.882196Z",
     "shell.execute_reply": "2021-10-13T14:26:01.882779Z",
     "shell.execute_reply.started": "2021-10-13T14:25:11.928196Z"
    },
    "id": "fvlWYOzUPX1-",
    "outputId": "6dd59027-b672-408f-b4c5-759c9a5d39c5",
    "papermill": {
     "duration": 0.044808,
     "end_time": "2021-10-13T14:26:01.882943",
     "exception": false,
     "start_time": "2021-10-13T14:26:01.838135",
     "status": "completed"
    },
    "tags": []
   },
   "outputs": [
    {
     "data": {
      "text/html": [
       "<div>\n",
       "<style scoped>\n",
       "    .dataframe tbody tr th:only-of-type {\n",
       "        vertical-align: middle;\n",
       "    }\n",
       "\n",
       "    .dataframe tbody tr th {\n",
       "        vertical-align: top;\n",
       "    }\n",
       "\n",
       "    .dataframe thead th {\n",
       "        text-align: right;\n",
       "    }\n",
       "</style>\n",
       "<table border=\"1\" class=\"dataframe\">\n",
       "  <thead>\n",
       "    <tr style=\"text-align: right;\">\n",
       "      <th></th>\n",
       "      <th>Questions</th>\n",
       "      <th>Answers</th>\n",
       "      <th>Answers_Code</th>\n",
       "    </tr>\n",
       "  </thead>\n",
       "  <tbody>\n",
       "    <tr>\n",
       "      <th>0</th>\n",
       "      <td>mean mental illness</td>\n",
       "      <td>Mental illnesses are health conditions that di...</td>\n",
       "      <td>48</td>\n",
       "    </tr>\n",
       "    <tr>\n",
       "      <th>1</th>\n",
       "      <td>mental illness affect</td>\n",
       "      <td>It is estimated that mental illness affects 1 ...</td>\n",
       "      <td>35</td>\n",
       "    </tr>\n",
       "    <tr>\n",
       "      <th>2</th>\n",
       "      <td>causes mental illness</td>\n",
       "      <td>It is estimated that mental illness affects 1 ...</td>\n",
       "      <td>36</td>\n",
       "    </tr>\n",
       "    <tr>\n",
       "      <th>3</th>\n",
       "      <td>warning signs mental illness</td>\n",
       "      <td>Symptoms of mental health disorders vary depen...</td>\n",
       "      <td>72</td>\n",
       "    </tr>\n",
       "    <tr>\n",
       "      <th>4</th>\n",
       "      <td>people mental illness recover</td>\n",
       "      <td>When healing from mental illness, early identi...</td>\n",
       "      <td>91</td>\n",
       "    </tr>\n",
       "    <tr>\n",
       "      <th>...</th>\n",
       "      <td>...</td>\n",
       "      <td>...</td>\n",
       "      <td>...</td>\n",
       "    </tr>\n",
       "    <tr>\n",
       "      <th>93</th>\n",
       "      <td>know im drinking much</td>\n",
       "      <td>Sorting out if you are drinking too much can b...</td>\n",
       "      <td>69</td>\n",
       "    </tr>\n",
       "    <tr>\n",
       "      <th>94</th>\n",
       "      <td>cannabis dangerous legalizing</td>\n",
       "      <td>Cannabis smoke, for example, contains cancer-c...</td>\n",
       "      <td>18</td>\n",
       "    </tr>\n",
       "    <tr>\n",
       "      <th>95</th>\n",
       "      <td>convince kids use drugs</td>\n",
       "      <td>You can't. But you can influence their capacit...</td>\n",
       "      <td>96</td>\n",
       "    </tr>\n",
       "    <tr>\n",
       "      <th>96</th>\n",
       "      <td>legal status evidence cbd oil</td>\n",
       "      <td>Cannabidiol or CBD is a naturally occurring co...</td>\n",
       "      <td>17</td>\n",
       "    </tr>\n",
       "    <tr>\n",
       "      <th>97</th>\n",
       "      <td>evidence vaping</td>\n",
       "      <td>\"Vaping\" is the term for using a device where ...</td>\n",
       "      <td>0</td>\n",
       "    </tr>\n",
       "  </tbody>\n",
       "</table>\n",
       "<p>98 rows × 3 columns</p>\n",
       "</div>"
      ],
      "text/plain": [
       "                        Questions  \\\n",
       "0             mean mental illness   \n",
       "1           mental illness affect   \n",
       "2           causes mental illness   \n",
       "3    warning signs mental illness   \n",
       "4   people mental illness recover   \n",
       "..                            ...   \n",
       "93          know im drinking much   \n",
       "94  cannabis dangerous legalizing   \n",
       "95        convince kids use drugs   \n",
       "96  legal status evidence cbd oil   \n",
       "97                evidence vaping   \n",
       "\n",
       "                                              Answers  Answers_Code  \n",
       "0   Mental illnesses are health conditions that di...            48  \n",
       "1   It is estimated that mental illness affects 1 ...            35  \n",
       "2   It is estimated that mental illness affects 1 ...            36  \n",
       "3   Symptoms of mental health disorders vary depen...            72  \n",
       "4   When healing from mental illness, early identi...            91  \n",
       "..                                                ...           ...  \n",
       "93  Sorting out if you are drinking too much can b...            69  \n",
       "94  Cannabis smoke, for example, contains cancer-c...            18  \n",
       "95  You can't. But you can influence their capacit...            96  \n",
       "96  Cannabidiol or CBD is a naturally occurring co...            17  \n",
       "97  \"Vaping\" is the term for using a device where ...             0  \n",
       "\n",
       "[98 rows x 3 columns]"
      ]
     },
     "execution_count": 23,
     "metadata": {},
     "output_type": "execute_result"
    }
   ],
   "source": [
    "df"
   ]
  },
  {
   "cell_type": "code",
   "execution_count": 24,
   "id": "f80e3d04",
   "metadata": {
    "execution": {
     "iopub.execute_input": "2021-10-13T14:26:01.949136Z",
     "iopub.status.busy": "2021-10-13T14:26:01.948403Z",
     "iopub.status.idle": "2021-10-13T14:26:01.976439Z",
     "shell.execute_reply": "2021-10-13T14:26:01.977230Z",
     "shell.execute_reply.started": "2021-10-13T14:25:11.942450Z"
    },
    "id": "VrEXgTBfVK0Z",
    "outputId": "31d192a7-e417-48b9-8825-7c85ad446ca4",
    "papermill": {
     "duration": 0.062749,
     "end_time": "2021-10-13T14:26:01.977499",
     "exception": false,
     "start_time": "2021-10-13T14:26:01.914750",
     "status": "completed"
    },
    "tags": []
   },
   "outputs": [
    {
     "data": {
      "text/plain": [
       "MultinomialNB()"
      ]
     },
     "execution_count": 24,
     "metadata": {},
     "output_type": "execute_result"
    }
   ],
   "source": [
    "from sklearn.naive_bayes import MultinomialNB\n",
    "mn=MultinomialNB()\n",
    "mn.fit(df_check,df[\"Answers_Code\"])"
   ]
  },
  {
   "cell_type": "code",
   "execution_count": 25,
   "id": "f8753cee",
   "metadata": {
    "execution": {
     "iopub.execute_input": "2021-10-13T14:26:02.094938Z",
     "iopub.status.busy": "2021-10-13T14:26:02.094278Z",
     "iopub.status.idle": "2021-10-13T14:26:02.096617Z",
     "shell.execute_reply": "2021-10-13T14:26:02.096030Z",
     "shell.execute_reply.started": "2021-10-13T14:25:11.967381Z"
    },
    "id": "By_Q1ukbZTAP",
    "papermill": {
     "duration": 0.061811,
     "end_time": "2021-10-13T14:26:02.096753",
     "exception": false,
     "start_time": "2021-10-13T14:26:02.034942",
     "status": "completed"
    },
    "tags": []
   },
   "outputs": [],
   "source": [
    "test=[\n",
    "    \"What does mental illness mean?\",\n",
    "    \"What are the causes of mental illness?\"\n",
    "]"
   ]
  },
  {
   "cell_type": "code",
   "execution_count": 26,
   "id": "4424f7ff",
   "metadata": {
    "execution": {
     "iopub.execute_input": "2021-10-13T14:26:02.162941Z",
     "iopub.status.busy": "2021-10-13T14:26:02.162294Z",
     "iopub.status.idle": "2021-10-13T14:26:02.166779Z",
     "shell.execute_reply": "2021-10-13T14:26:02.167356Z",
     "shell.execute_reply.started": "2021-10-13T14:25:11.973244Z"
    },
    "id": "OPMwVditpKQF",
    "papermill": {
     "duration": 0.039179,
     "end_time": "2021-10-13T14:26:02.167525",
     "exception": false,
     "start_time": "2021-10-13T14:26:02.128346",
     "status": "completed"
    },
    "tags": []
   },
   "outputs": [],
   "source": [
    "testing=tf.transform(test)"
   ]
  },
  {
   "cell_type": "code",
   "execution_count": 27,
   "id": "538c65a3",
   "metadata": {
    "execution": {
     "iopub.execute_input": "2021-10-13T14:26:02.233312Z",
     "iopub.status.busy": "2021-10-13T14:26:02.232673Z",
     "iopub.status.idle": "2021-10-13T14:26:02.237797Z",
     "shell.execute_reply": "2021-10-13T14:26:02.238310Z",
     "shell.execute_reply.started": "2021-10-13T14:25:11.983661Z"
    },
    "id": "_dMtu7UpqqXd",
    "outputId": "8f336fa0-d103-4557-ad79-75bf9a9ce3ed",
    "papermill": {
     "duration": 0.039517,
     "end_time": "2021-10-13T14:26:02.238472",
     "exception": false,
     "start_time": "2021-10-13T14:26:02.198955",
     "status": "completed"
    },
    "tags": []
   },
   "outputs": [
    {
     "data": {
      "text/plain": [
       "array([48, 36])"
      ]
     },
     "execution_count": 27,
     "metadata": {},
     "output_type": "execute_result"
    }
   ],
   "source": [
    "mn.predict(testing)"
   ]
  },
  {
   "cell_type": "code",
   "execution_count": 28,
   "id": "6e1298de",
   "metadata": {
    "execution": {
     "iopub.execute_input": "2021-10-13T14:26:02.304495Z",
     "iopub.status.busy": "2021-10-13T14:26:02.303873Z",
     "iopub.status.idle": "2021-10-13T14:26:02.308902Z",
     "shell.execute_reply": "2021-10-13T14:26:02.309407Z",
     "shell.execute_reply.started": "2021-10-13T14:25:11.994027Z"
    },
    "id": "_tye9INgq2dE",
    "papermill": {
     "duration": 0.039315,
     "end_time": "2021-10-13T14:26:02.309561",
     "exception": false,
     "start_time": "2021-10-13T14:26:02.270246",
     "status": "completed"
    },
    "tags": []
   },
   "outputs": [],
   "source": [
    "Ans=df[\"Answers\"].unique()\n",
    "Ans=Ans.tolist()\n",
    "Ans_Code=df[\"Answers_Code\"].unique()\n",
    "Ans_Code=Ans_Code.tolist()"
   ]
  },
  {
   "cell_type": "code",
   "execution_count": 29,
   "id": "b966fd99",
   "metadata": {
    "execution": {
     "iopub.execute_input": "2021-10-13T14:26:02.375187Z",
     "iopub.status.busy": "2021-10-13T14:26:02.374569Z",
     "iopub.status.idle": "2021-10-13T14:26:02.379028Z",
     "shell.execute_reply": "2021-10-13T14:26:02.379503Z",
     "shell.execute_reply.started": "2021-10-13T14:25:12.001985Z"
    },
    "id": "8d9LnmT9rmKH",
    "outputId": "1d961d30-2c29-4e71-90a9-d98842b3f134",
    "papermill": {
     "duration": 0.038834,
     "end_time": "2021-10-13T14:26:02.379655",
     "exception": false,
     "start_time": "2021-10-13T14:26:02.340821",
     "status": "completed"
    },
    "tags": []
   },
   "outputs": [
    {
     "data": {
      "text/plain": [
       "2"
      ]
     },
     "execution_count": 29,
     "metadata": {},
     "output_type": "execute_result"
    }
   ],
   "source": [
    "Ans_Code.index(48)\n",
    "Ans_Code.index(36)"
   ]
  },
  {
   "cell_type": "code",
   "execution_count": 30,
   "id": "377a3813",
   "metadata": {
    "execution": {
     "iopub.execute_input": "2021-10-13T14:26:02.446897Z",
     "iopub.status.busy": "2021-10-13T14:26:02.446300Z",
     "iopub.status.idle": "2021-10-13T14:26:02.450360Z",
     "shell.execute_reply": "2021-10-13T14:26:02.450827Z",
     "shell.execute_reply.started": "2021-10-13T14:25:12.011818Z"
    },
    "id": "tyH3_N6nsYN1",
    "outputId": "c351ba32-4faf-4a82-d6f9-2fa8f99391b8",
    "papermill": {
     "duration": 0.039484,
     "end_time": "2021-10-13T14:26:02.451003",
     "exception": false,
     "start_time": "2021-10-13T14:26:02.411519",
     "status": "completed"
    },
    "tags": []
   },
   "outputs": [
    {
     "data": {
      "text/plain": [
       "'It is estimated that mental illness affects 1 in 5 adults in America, and that 1 in 24 adults have a serious mental illness. Mental illness does not discriminate; it can affect anyone, regardless of gender, age, income, social status, ethnicity, religion, sexual orientation, or background. Although mental illness can affect anyone, certain conditions may be more common in different populations. For instance, eating disorders tend to occur more often in females, while disorders such as attention deficit/hyperactivity disorder is more prevalent in children. Additionally, all ages are susceptible, but the young and the old are especially vulnerable. Mental illnesses usually strike individuals in the prime of their lives, with 75 percent of mental health conditions developing by the age of 24. This makes identification and treatment of mental disorders particularly difficult, because the normal personality and behavioral changes of adolescence may mask symptoms of a mental health condition. Parents and caretakers should be aware of this fact, and take notice of changes in their child’s mood, personality, personal habits, and social withdrawal. When these occur in children under 18, they are referred to as serious emotional disturbances (SEDs).'"
      ]
     },
     "execution_count": 30,
     "metadata": {},
     "output_type": "execute_result"
    }
   ],
   "source": [
    "Ans[2]"
   ]
  }
 ],
 "metadata": {
  "kernelspec": {
   "display_name": "Python 3",
   "language": "python",
   "name": "python3"
  },
  "language_info": {
   "codemirror_mode": {
    "name": "ipython",
    "version": 3
   },
   "file_extension": ".py",
   "mimetype": "text/x-python",
   "name": "python",
   "nbconvert_exporter": "python",
   "pygments_lexer": "ipython3",
   "version": "3.7.10"
  },
  "papermill": {
   "default_parameters": {},
   "duration": 15.812824,
   "end_time": "2021-10-13T14:26:03.687708",
   "environment_variables": {},
   "exception": null,
   "input_path": "__notebook__.ipynb",
   "output_path": "__notebook__.ipynb",
   "parameters": {},
   "start_time": "2021-10-13T14:25:47.874884",
   "version": "2.3.3"
  }
 },
 "nbformat": 4,
 "nbformat_minor": 5
}
